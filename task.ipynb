{
 "cells": [
  {
   "cell_type": "markdown",
   "id": "57ca9cea",
   "metadata": {},
   "source": [
    "## openCV Project Camera, Edge and Save Image"
   ]
  },
  {
   "cell_type": "code",
   "execution_count": null,
   "id": "5f1434fa",
   "metadata": {},
   "outputs": [],
   "source": [
    "import tkinter as Tk\n",
    "from tkinter import *\n",
    "import numpy as np\n",
    "import cv2\n",
    "\n",
    "win=Tk()\n",
    "#function coding starts here\n",
    "def grayimg():\n",
    "    video_c=cv2.VideoCapture(0) \n",
    "    while True:\n",
    "        ret, frame = video_c.read()\n",
    "        frame=cv2.cvtColor(frame, cv2.COLOR_BGR2GRAY )\n",
    "        if ret == True:\n",
    "            cv2.imshow('Frame',frame)\n",
    "            \n",
    "            if cv2.waitKey(1) == ord('q'):\n",
    "                break\n",
    "    video_c.release()\n",
    "    cv2.destroyAllWindows()\n",
    "\n",
    "def edge():\n",
    "\n",
    "    video_c=cv2.VideoCapture(0) \n",
    "    while True:\n",
    "        ret, frame = video_c.read()\n",
    "        frame=cv2.cvtColor(frame, cv2.COLOR_BGR2GRAY )\n",
    "        frame=cv2.Canny(frame,100,100)\n",
    "        if ret == True:\n",
    "            cv2.imshow('Frame',frame)\n",
    "            \n",
    "            if cv2.waitKey(1) == ord('q'):\n",
    "                break\n",
    "    video_c.release()\n",
    "    cv2.destroyAllWindows()\n",
    "    \n",
    "def save():\n",
    "    video_c=cv2.VideoCapture(0) \n",
    "    \n",
    "    while True:\n",
    "        ret, frame = video_c.read()\n",
    "        \n",
    "        if ret == True:\n",
    "            cv2.imshow('Frame',frame)\n",
    "            \n",
    "            cv2.imwrite(f\"test.jpg\",frame)\n",
    "            \n",
    "            \n",
    "            if cv2.waitKey(1) == ord('q'):\n",
    "                break\n",
    "    video_c.release()\n",
    "    cv2.destroyAllWindows()\n",
    "    pass\n",
    "\n",
    "text= Label(win,text = \"Camera\").place(x = 40,y = 60)  \n",
    "b1=Button(win,text='Gray',command=grayimg).place(x=20,y=80)\n",
    "b2=Button(win,text='Edge',command=edge).place(x=60,y=80)\n",
    "b3=Button(win,text='Save',command=save).place(x=100,y=80)\n",
    "win.mainloop()"
   ]
  },
  {
   "cell_type": "code",
   "execution_count": null,
   "id": "dbe52ad6",
   "metadata": {},
   "outputs": [],
   "source": []
  }
 ],
 "metadata": {
  "kernelspec": {
   "display_name": "Python 3 (ipykernel)",
   "language": "python",
   "name": "python3"
  },
  "language_info": {
   "codemirror_mode": {
    "name": "ipython",
    "version": 3
   },
   "file_extension": ".py",
   "mimetype": "text/x-python",
   "name": "python",
   "nbconvert_exporter": "python",
   "pygments_lexer": "ipython3",
   "version": "3.9.7"
  }
 },
 "nbformat": 4,
 "nbformat_minor": 5
}
